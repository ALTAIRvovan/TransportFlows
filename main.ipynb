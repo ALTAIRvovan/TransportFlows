{
 "cells": [
  {
   "cell_type": "code",
   "execution_count": 1,
   "metadata": {
    "collapsed": true
   },
   "outputs": [],
   "source": [
    "import numpy as np\n",
    "import matplotlib.pyplot as plt\n",
    "% matplotlib inline"
   ]
  },
  {
   "cell_type": "markdown",
   "metadata": {},
   "source": [
    "# Основые функции, описывающие населения"
   ]
  },
  {
   "cell_type": "code",
   "execution_count": 43,
   "metadata": {},
   "outputs": [],
   "source": [
    "from users import UserDistribution\n",
    "from transport_types import TrainTransport, TaxiTransport, CarTransport\n",
    "\n",
    "N = 100000\n",
    "dis = UserDistribution(N, 1.1,  100000)\n",
    "\n",
    "trans = [\n",
    "    TrainTransport(22000, 120, 0, 0),\n",
    "    TaxiTransport(84000, 120, 15000, 1, 10),\n",
    "    CarTransport(20000, 100, 100, 0)\n",
    "]\n",
    "\n",
    "x0 = [N - 500, 500, 0]\n",
    "x_story = [x0]"
   ]
  },
  {
   "cell_type": "code",
   "execution_count": 44,
   "metadata": {},
   "outputs": [],
   "source": [
    "for _ in range(10):\n",
    "    x = [0, 0, 0]\n",
    "    for price, n in dis.distrib(1):\n",
    "        f0 = trans[0].cost(price, x0[0], x0[0])\n",
    "        f1 = trans[1].cost(price, x0[1], x0[1])\n",
    "        f2 = trans[2].cost(price, x0[2], x0[2])\n",
    "#         print([f0, f1, f2])\n",
    "        if f0 < f1 and f0 < f2:\n",
    "            x[0] += n\n",
    "        elif f1 < f0 and f1 < f2:\n",
    "            x[1] += n\n",
    "        else:\n",
    "            x[2] += n\n",
    "    x_story.append(x)\n",
    "    x0 = np.average(np.array(x_story), axis=0)"
   ]
  },
  {
   "cell_type": "code",
   "execution_count": 45,
   "metadata": {},
   "outputs": [
    {
     "data": {
      "text/plain": [
       "<matplotlib.legend.Legend at 0x7f9a2628cfd0>"
      ]
     },
     "execution_count": 45,
     "metadata": {},
     "output_type": "execute_result"
    },
    {
     "data": {
      "image/png": "[encoded data removed]",
      "text/plain": [
       "<matplotlib.figure.Figure at 0x7f9a263ad6a0>"
      ]
     },
     "metadata": {},
     "output_type": "display_data"
    }
   ],
   "source": [
    "x_story_np = np.array(x_story)\n",
    "\n",
    "plt.plot(x_story_np[:, 0], label='train')\n",
    "plt.plot(x_story_np[:, 1], label='taxi')\n",
    "plt.plot(x_story_np[:, 2], label='car')\n",
    "plt.legend()"
   ]
  },
  {
   "cell_type": "code",
   "execution_count": null,
   "metadata": {
    "collapsed": true
   },
   "outputs": [],
   "source": []
  },
  {
   "cell_type": "code",
   "execution_count": null,
   "metadata": {
    "collapsed": true
   },
   "outputs": [],
   "source": []
  }
 ],
 "metadata": {
  "kernelspec": {
   "display_name": "Python 3",
   "language": "python",
   "name": "python3"
  },
  "language_info": {
   "codemirror_mode": {
    "name": "ipython",
    "version": 3
   },
   "file_extension": ".py",
   "mimetype": "text/x-python",
   "name": "python",
   "nbconvert_exporter": "python",
   "pygments_lexer": "ipython3",
   "version": "3.5.3"
  }
 },
 "nbformat": 4,
 "nbformat_minor": 1
}
